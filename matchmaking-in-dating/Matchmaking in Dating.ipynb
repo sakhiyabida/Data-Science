{
 "cells": [
  {
   "cell_type": "code",
   "execution_count": 5,
   "metadata": {},
   "outputs": [],
   "source": [
    "import pandas as pd\n",
    "import numpy as np\n",
    "import plotly.express as px"
   ]
  },
  {
   "cell_type": "code",
   "execution_count": 4,
   "metadata": {},
   "outputs": [
    {
     "data": {
      "text/html": [
       "<div>\n",
       "<style scoped>\n",
       "    .dataframe tbody tr th:only-of-type {\n",
       "        vertical-align: middle;\n",
       "    }\n",
       "\n",
       "    .dataframe tbody tr th {\n",
       "        vertical-align: top;\n",
       "    }\n",
       "\n",
       "    .dataframe thead th {\n",
       "        text-align: right;\n",
       "    }\n",
       "</style>\n",
       "<table border=\"1\" class=\"dataframe\">\n",
       "  <thead>\n",
       "    <tr style=\"text-align: right;\">\n",
       "      <th></th>\n",
       "      <th>User ID</th>\n",
       "      <th>Age</th>\n",
       "      <th>Gender</th>\n",
       "      <th>Height</th>\n",
       "      <th>Interests</th>\n",
       "      <th>Looking For</th>\n",
       "      <th>Children</th>\n",
       "      <th>Education Level</th>\n",
       "      <th>Occupation</th>\n",
       "      <th>Swiping History</th>\n",
       "      <th>Frequency of Usage</th>\n",
       "    </tr>\n",
       "  </thead>\n",
       "  <tbody>\n",
       "    <tr>\n",
       "      <th>0</th>\n",
       "      <td>1</td>\n",
       "      <td>30</td>\n",
       "      <td>Male</td>\n",
       "      <td>5.240385</td>\n",
       "      <td>['Sports', 'Cooking', 'Hiking', 'Music', 'Movi...</td>\n",
       "      <td>Casual Dating</td>\n",
       "      <td>No</td>\n",
       "      <td>High School</td>\n",
       "      <td>Student</td>\n",
       "      <td>96</td>\n",
       "      <td>Weekly</td>\n",
       "    </tr>\n",
       "    <tr>\n",
       "      <th>1</th>\n",
       "      <td>2</td>\n",
       "      <td>27</td>\n",
       "      <td>Female</td>\n",
       "      <td>4.937625</td>\n",
       "      <td>['Sports', 'Reading']</td>\n",
       "      <td>Friendship</td>\n",
       "      <td>Yes</td>\n",
       "      <td>Master's Degree</td>\n",
       "      <td>Artist</td>\n",
       "      <td>96</td>\n",
       "      <td>Monthly</td>\n",
       "    </tr>\n",
       "    <tr>\n",
       "      <th>2</th>\n",
       "      <td>3</td>\n",
       "      <td>29</td>\n",
       "      <td>Female</td>\n",
       "      <td>5.806296</td>\n",
       "      <td>['Sports']</td>\n",
       "      <td>Casual Dating</td>\n",
       "      <td>No</td>\n",
       "      <td>Bachelor's Degree</td>\n",
       "      <td>Social Media Influencer</td>\n",
       "      <td>64</td>\n",
       "      <td>Daily</td>\n",
       "    </tr>\n",
       "    <tr>\n",
       "      <th>3</th>\n",
       "      <td>4</td>\n",
       "      <td>29</td>\n",
       "      <td>Female</td>\n",
       "      <td>5.101402</td>\n",
       "      <td>['Reading']</td>\n",
       "      <td>Marriage</td>\n",
       "      <td>No</td>\n",
       "      <td>Ph.D.</td>\n",
       "      <td>Doctor</td>\n",
       "      <td>67</td>\n",
       "      <td>Daily</td>\n",
       "    </tr>\n",
       "    <tr>\n",
       "      <th>4</th>\n",
       "      <td>5</td>\n",
       "      <td>32</td>\n",
       "      <td>Male</td>\n",
       "      <td>5.986670</td>\n",
       "      <td>['Sports', 'Hiking', 'Music', 'Movies', 'Readi...</td>\n",
       "      <td>Long-term Relationship</td>\n",
       "      <td>Yes</td>\n",
       "      <td>Ph.D.</td>\n",
       "      <td>Engineer</td>\n",
       "      <td>93</td>\n",
       "      <td>Monthly</td>\n",
       "    </tr>\n",
       "  </tbody>\n",
       "</table>\n",
       "</div>"
      ],
      "text/plain": [
       "   User ID  Age  Gender    Height  \\\n",
       "0        1   30    Male  5.240385   \n",
       "1        2   27  Female  4.937625   \n",
       "2        3   29  Female  5.806296   \n",
       "3        4   29  Female  5.101402   \n",
       "4        5   32    Male  5.986670   \n",
       "\n",
       "                                           Interests             Looking For  \\\n",
       "0  ['Sports', 'Cooking', 'Hiking', 'Music', 'Movi...           Casual Dating   \n",
       "1                              ['Sports', 'Reading']              Friendship   \n",
       "2                                         ['Sports']           Casual Dating   \n",
       "3                                        ['Reading']                Marriage   \n",
       "4  ['Sports', 'Hiking', 'Music', 'Movies', 'Readi...  Long-term Relationship   \n",
       "\n",
       "  Children    Education Level               Occupation  Swiping History  \\\n",
       "0       No        High School                  Student               96   \n",
       "1      Yes    Master's Degree                   Artist               96   \n",
       "2       No  Bachelor's Degree  Social Media Influencer               64   \n",
       "3       No              Ph.D.                   Doctor               67   \n",
       "4      Yes              Ph.D.                 Engineer               93   \n",
       "\n",
       "  Frequency of Usage  \n",
       "0             Weekly  \n",
       "1            Monthly  \n",
       "2              Daily  \n",
       "3              Daily  \n",
       "4            Monthly  "
      ]
     },
     "execution_count": 4,
     "metadata": {},
     "output_type": "execute_result"
    }
   ],
   "source": [
    "data = pd.read_csv('dating_app_dataset.csv')\n",
    "data.head()"
   ]
  },
  {
   "cell_type": "code",
   "execution_count": 8,
   "metadata": {},
   "outputs": [
    {
     "data": {
      "application/vnd.plotly.v1+json": {
       "config": {
        "plotlyServerURL": "https://plot.ly"
       },
       "data": [
        {
         "alignmentgroup": "True",
         "bingroup": "x",
         "hovertemplate": "Gender=Male<br>Age=%{x}<br>count=%{y}<extra></extra>",
         "legendgroup": "Male",
         "marker": {
          "color": "#636efa",
          "pattern": {
           "shape": ""
          }
         },
         "name": "Male",
         "nbinsx": 20,
         "offsetgroup": "Male",
         "orientation": "v",
         "showlegend": true,
         "type": "histogram",
         "x": [
          30,
          32,
          21,
          20,
          27,
          29,
          31,
          31,
          22,
          32,
          32,
          30,
          21,
          25,
          19,
          24,
          19,
          35,
          34,
          23,
          30,
          30,
          33,
          35,
          18,
          27,
          35,
          34,
          21,
          33,
          30,
          27,
          31,
          28,
          35,
          23,
          31,
          34,
          23,
          25,
          25,
          24,
          23,
          22,
          31,
          32,
          29,
          21,
          35,
          32,
          31,
          27,
          29,
          24,
          19,
          25,
          25,
          32,
          24,
          26,
          29,
          24,
          32,
          32,
          29,
          26,
          35,
          20,
          32,
          33,
          32,
          24,
          34,
          18,
          25,
          34,
          25,
          21,
          27,
          32,
          30,
          23,
          24,
          22,
          21,
          32,
          31,
          25,
          35,
          30,
          29,
          34,
          26,
          29,
          31,
          31,
          26,
          33,
          29,
          34,
          24,
          28,
          32,
          20,
          32,
          34,
          24,
          33,
          31,
          23,
          20,
          35,
          34,
          28,
          31,
          19,
          31,
          35,
          31,
          27,
          21,
          34,
          21,
          25,
          26,
          29,
          28,
          23,
          33,
          22,
          24,
          21,
          24,
          21,
          29,
          26,
          22,
          22,
          24,
          29,
          20,
          29,
          30,
          21,
          35,
          31,
          19,
          34,
          28,
          27,
          34,
          28,
          23,
          24,
          21,
          26,
          32,
          20,
          21,
          26,
          20,
          30,
          21,
          31,
          26,
          33,
          33,
          19,
          18,
          25,
          19,
          30,
          25,
          34,
          23,
          33,
          19,
          35,
          18,
          25,
          35,
          18,
          33,
          21,
          25,
          26,
          23,
          22,
          34,
          28,
          18,
          33,
          23,
          34,
          19,
          31,
          24,
          18,
          28,
          34,
          30,
          29,
          21,
          33,
          28,
          35,
          29,
          18,
          25,
          18,
          31,
          18,
          30,
          30,
          32,
          23,
          21,
          25,
          27,
          23,
          25,
          27,
          32,
          31,
          35,
          35,
          27,
          33,
          23,
          29,
          29,
          19,
          24,
          34,
          19,
          21,
          34,
          21,
          33,
          29,
          28,
          25,
          35,
          33,
          34,
          18,
          34,
          27,
          33,
          32,
          24
         ],
         "xaxis": "x",
         "yaxis": "y"
        },
        {
         "alignmentgroup": "True",
         "bingroup": "x",
         "hovertemplate": "Gender=Female<br>Age=%{x}<br>count=%{y}<extra></extra>",
         "legendgroup": "Female",
         "marker": {
          "color": "#EF553B",
          "pattern": {
           "shape": ""
          }
         },
         "name": "Female",
         "nbinsx": 20,
         "offsetgroup": "Female",
         "orientation": "v",
         "showlegend": true,
         "type": "histogram",
         "x": [
          27,
          29,
          29,
          25,
          27,
          33,
          26,
          27,
          20,
          33,
          25,
          30,
          24,
          27,
          31,
          24,
          29,
          20,
          19,
          18,
          20,
          26,
          24,
          24,
          31,
          20,
          33,
          26,
          28,
          18,
          28,
          33,
          34,
          30,
          25,
          29,
          32,
          34,
          31,
          22,
          25,
          32,
          25,
          20,
          18,
          25,
          25,
          24,
          34,
          24,
          33,
          21,
          21,
          22,
          22,
          22,
          19,
          30,
          28,
          23,
          22,
          22,
          26,
          22,
          30,
          26,
          25,
          34,
          33,
          25,
          22,
          28,
          27,
          32,
          21,
          25,
          31,
          19,
          33,
          33,
          21,
          29,
          20,
          27,
          28,
          20,
          18,
          18,
          22,
          25,
          26,
          26,
          28,
          30,
          23,
          32,
          27,
          21,
          24,
          30,
          23,
          31,
          28,
          23,
          34,
          34,
          22,
          35,
          19,
          25,
          26,
          22,
          29,
          23,
          25,
          31,
          35,
          33,
          23,
          27,
          20,
          24,
          27,
          21,
          27,
          23,
          23,
          23,
          34,
          25,
          27,
          22,
          32,
          32,
          19,
          34,
          19,
          33,
          18,
          24,
          26,
          24,
          34,
          29,
          22,
          21,
          33,
          34,
          20,
          29,
          30,
          28,
          26,
          35,
          24,
          33,
          32,
          27,
          24,
          19,
          20,
          25,
          31,
          32,
          18,
          19,
          28,
          32,
          34,
          34,
          28,
          31,
          18,
          26,
          29,
          27,
          33,
          19,
          23,
          25,
          32,
          26,
          31,
          35,
          29,
          32,
          26,
          34,
          35,
          23,
          20,
          32,
          31,
          34,
          32,
          30,
          23,
          27,
          33,
          32,
          24,
          29,
          30,
          33,
          27,
          33,
          20,
          20,
          22,
          18,
          27,
          32,
          24,
          20,
          35,
          30,
          27,
          24,
          24,
          35,
          33,
          19,
          18,
          18,
          28,
          23,
          20,
          23,
          33,
          29,
          35,
          26,
          35,
          29,
          20,
          29,
          28,
          18,
          29,
          19,
          35,
          20,
          28,
          32,
          24,
          30,
          32,
          33,
          30
         ],
         "xaxis": "x",
         "yaxis": "y"
        }
       ],
       "layout": {
        "barmode": "relative",
        "legend": {
         "title": {
          "text": "Gender"
         },
         "tracegroupgap": 0
        },
        "template": {
         "data": {
          "bar": [
           {
            "error_x": {
             "color": "#2a3f5f"
            },
            "error_y": {
             "color": "#2a3f5f"
            },
            "marker": {
             "line": {
              "color": "#E5ECF6",
              "width": 0.5
             },
             "pattern": {
              "fillmode": "overlay",
              "size": 10,
              "solidity": 0.2
             }
            },
            "type": "bar"
           }
          ],
          "barpolar": [
           {
            "marker": {
             "line": {
              "color": "#E5ECF6",
              "width": 0.5
             },
             "pattern": {
              "fillmode": "overlay",
              "size": 10,
              "solidity": 0.2
             }
            },
            "type": "barpolar"
           }
          ],
          "carpet": [
           {
            "aaxis": {
             "endlinecolor": "#2a3f5f",
             "gridcolor": "white",
             "linecolor": "white",
             "minorgridcolor": "white",
             "startlinecolor": "#2a3f5f"
            },
            "baxis": {
             "endlinecolor": "#2a3f5f",
             "gridcolor": "white",
             "linecolor": "white",
             "minorgridcolor": "white",
             "startlinecolor": "#2a3f5f"
            },
            "type": "carpet"
           }
          ],
          "choropleth": [
           {
            "colorbar": {
             "outlinewidth": 0,
             "ticks": ""
            },
            "type": "choropleth"
           }
          ],
          "contour": [
           {
            "colorbar": {
             "outlinewidth": 0,
             "ticks": ""
            },
            "colorscale": [
             [
              0,
              "#0d0887"
             ],
             [
              0.1111111111111111,
              "#46039f"
             ],
             [
              0.2222222222222222,
              "#7201a8"
             ],
             [
              0.3333333333333333,
              "#9c179e"
             ],
             [
              0.4444444444444444,
              "#bd3786"
             ],
             [
              0.5555555555555556,
              "#d8576b"
             ],
             [
              0.6666666666666666,
              "#ed7953"
             ],
             [
              0.7777777777777778,
              "#fb9f3a"
             ],
             [
              0.8888888888888888,
              "#fdca26"
             ],
             [
              1,
              "#f0f921"
             ]
            ],
            "type": "contour"
           }
          ],
          "contourcarpet": [
           {
            "colorbar": {
             "outlinewidth": 0,
             "ticks": ""
            },
            "type": "contourcarpet"
           }
          ],
          "heatmap": [
           {
            "colorbar": {
             "outlinewidth": 0,
             "ticks": ""
            },
            "colorscale": [
             [
              0,
              "#0d0887"
             ],
             [
              0.1111111111111111,
              "#46039f"
             ],
             [
              0.2222222222222222,
              "#7201a8"
             ],
             [
              0.3333333333333333,
              "#9c179e"
             ],
             [
              0.4444444444444444,
              "#bd3786"
             ],
             [
              0.5555555555555556,
              "#d8576b"
             ],
             [
              0.6666666666666666,
              "#ed7953"
             ],
             [
              0.7777777777777778,
              "#fb9f3a"
             ],
             [
              0.8888888888888888,
              "#fdca26"
             ],
             [
              1,
              "#f0f921"
             ]
            ],
            "type": "heatmap"
           }
          ],
          "heatmapgl": [
           {
            "colorbar": {
             "outlinewidth": 0,
             "ticks": ""
            },
            "colorscale": [
             [
              0,
              "#0d0887"
             ],
             [
              0.1111111111111111,
              "#46039f"
             ],
             [
              0.2222222222222222,
              "#7201a8"
             ],
             [
              0.3333333333333333,
              "#9c179e"
             ],
             [
              0.4444444444444444,
              "#bd3786"
             ],
             [
              0.5555555555555556,
              "#d8576b"
             ],
             [
              0.6666666666666666,
              "#ed7953"
             ],
             [
              0.7777777777777778,
              "#fb9f3a"
             ],
             [
              0.8888888888888888,
              "#fdca26"
             ],
             [
              1,
              "#f0f921"
             ]
            ],
            "type": "heatmapgl"
           }
          ],
          "histogram": [
           {
            "marker": {
             "pattern": {
              "fillmode": "overlay",
              "size": 10,
              "solidity": 0.2
             }
            },
            "type": "histogram"
           }
          ],
          "histogram2d": [
           {
            "colorbar": {
             "outlinewidth": 0,
             "ticks": ""
            },
            "colorscale": [
             [
              0,
              "#0d0887"
             ],
             [
              0.1111111111111111,
              "#46039f"
             ],
             [
              0.2222222222222222,
              "#7201a8"
             ],
             [
              0.3333333333333333,
              "#9c179e"
             ],
             [
              0.4444444444444444,
              "#bd3786"
             ],
             [
              0.5555555555555556,
              "#d8576b"
             ],
             [
              0.6666666666666666,
              "#ed7953"
             ],
             [
              0.7777777777777778,
              "#fb9f3a"
             ],
             [
              0.8888888888888888,
              "#fdca26"
             ],
             [
              1,
              "#f0f921"
             ]
            ],
            "type": "histogram2d"
           }
          ],
          "histogram2dcontour": [
           {
            "colorbar": {
             "outlinewidth": 0,
             "ticks": ""
            },
            "colorscale": [
             [
              0,
              "#0d0887"
             ],
             [
              0.1111111111111111,
              "#46039f"
             ],
             [
              0.2222222222222222,
              "#7201a8"
             ],
             [
              0.3333333333333333,
              "#9c179e"
             ],
             [
              0.4444444444444444,
              "#bd3786"
             ],
             [
              0.5555555555555556,
              "#d8576b"
             ],
             [
              0.6666666666666666,
              "#ed7953"
             ],
             [
              0.7777777777777778,
              "#fb9f3a"
             ],
             [
              0.8888888888888888,
              "#fdca26"
             ],
             [
              1,
              "#f0f921"
             ]
            ],
            "type": "histogram2dcontour"
           }
          ],
          "mesh3d": [
           {
            "colorbar": {
             "outlinewidth": 0,
             "ticks": ""
            },
            "type": "mesh3d"
           }
          ],
          "parcoords": [
           {
            "line": {
             "colorbar": {
              "outlinewidth": 0,
              "ticks": ""
             }
            },
            "type": "parcoords"
           }
          ],
          "pie": [
           {
            "automargin": true,
            "type": "pie"
           }
          ],
          "scatter": [
           {
            "fillpattern": {
             "fillmode": "overlay",
             "size": 10,
             "solidity": 0.2
            },
            "type": "scatter"
           }
          ],
          "scatter3d": [
           {
            "line": {
             "colorbar": {
              "outlinewidth": 0,
              "ticks": ""
             }
            },
            "marker": {
             "colorbar": {
              "outlinewidth": 0,
              "ticks": ""
             }
            },
            "type": "scatter3d"
           }
          ],
          "scattercarpet": [
           {
            "marker": {
             "colorbar": {
              "outlinewidth": 0,
              "ticks": ""
             }
            },
            "type": "scattercarpet"
           }
          ],
          "scattergeo": [
           {
            "marker": {
             "colorbar": {
              "outlinewidth": 0,
              "ticks": ""
             }
            },
            "type": "scattergeo"
           }
          ],
          "scattergl": [
           {
            "marker": {
             "colorbar": {
              "outlinewidth": 0,
              "ticks": ""
             }
            },
            "type": "scattergl"
           }
          ],
          "scattermapbox": [
           {
            "marker": {
             "colorbar": {
              "outlinewidth": 0,
              "ticks": ""
             }
            },
            "type": "scattermapbox"
           }
          ],
          "scatterpolar": [
           {
            "marker": {
             "colorbar": {
              "outlinewidth": 0,
              "ticks": ""
             }
            },
            "type": "scatterpolar"
           }
          ],
          "scatterpolargl": [
           {
            "marker": {
             "colorbar": {
              "outlinewidth": 0,
              "ticks": ""
             }
            },
            "type": "scatterpolargl"
           }
          ],
          "scatterternary": [
           {
            "marker": {
             "colorbar": {
              "outlinewidth": 0,
              "ticks": ""
             }
            },
            "type": "scatterternary"
           }
          ],
          "surface": [
           {
            "colorbar": {
             "outlinewidth": 0,
             "ticks": ""
            },
            "colorscale": [
             [
              0,
              "#0d0887"
             ],
             [
              0.1111111111111111,
              "#46039f"
             ],
             [
              0.2222222222222222,
              "#7201a8"
             ],
             [
              0.3333333333333333,
              "#9c179e"
             ],
             [
              0.4444444444444444,
              "#bd3786"
             ],
             [
              0.5555555555555556,
              "#d8576b"
             ],
             [
              0.6666666666666666,
              "#ed7953"
             ],
             [
              0.7777777777777778,
              "#fb9f3a"
             ],
             [
              0.8888888888888888,
              "#fdca26"
             ],
             [
              1,
              "#f0f921"
             ]
            ],
            "type": "surface"
           }
          ],
          "table": [
           {
            "cells": {
             "fill": {
              "color": "#EBF0F8"
             },
             "line": {
              "color": "white"
             }
            },
            "header": {
             "fill": {
              "color": "#C8D4E3"
             },
             "line": {
              "color": "white"
             }
            },
            "type": "table"
           }
          ]
         },
         "layout": {
          "annotationdefaults": {
           "arrowcolor": "#2a3f5f",
           "arrowhead": 0,
           "arrowwidth": 1
          },
          "autotypenumbers": "strict",
          "coloraxis": {
           "colorbar": {
            "outlinewidth": 0,
            "ticks": ""
           }
          },
          "colorscale": {
           "diverging": [
            [
             0,
             "#8e0152"
            ],
            [
             0.1,
             "#c51b7d"
            ],
            [
             0.2,
             "#de77ae"
            ],
            [
             0.3,
             "#f1b6da"
            ],
            [
             0.4,
             "#fde0ef"
            ],
            [
             0.5,
             "#f7f7f7"
            ],
            [
             0.6,
             "#e6f5d0"
            ],
            [
             0.7,
             "#b8e186"
            ],
            [
             0.8,
             "#7fbc41"
            ],
            [
             0.9,
             "#4d9221"
            ],
            [
             1,
             "#276419"
            ]
           ],
           "sequential": [
            [
             0,
             "#0d0887"
            ],
            [
             0.1111111111111111,
             "#46039f"
            ],
            [
             0.2222222222222222,
             "#7201a8"
            ],
            [
             0.3333333333333333,
             "#9c179e"
            ],
            [
             0.4444444444444444,
             "#bd3786"
            ],
            [
             0.5555555555555556,
             "#d8576b"
            ],
            [
             0.6666666666666666,
             "#ed7953"
            ],
            [
             0.7777777777777778,
             "#fb9f3a"
            ],
            [
             0.8888888888888888,
             "#fdca26"
            ],
            [
             1,
             "#f0f921"
            ]
           ],
           "sequentialminus": [
            [
             0,
             "#0d0887"
            ],
            [
             0.1111111111111111,
             "#46039f"
            ],
            [
             0.2222222222222222,
             "#7201a8"
            ],
            [
             0.3333333333333333,
             "#9c179e"
            ],
            [
             0.4444444444444444,
             "#bd3786"
            ],
            [
             0.5555555555555556,
             "#d8576b"
            ],
            [
             0.6666666666666666,
             "#ed7953"
            ],
            [
             0.7777777777777778,
             "#fb9f3a"
            ],
            [
             0.8888888888888888,
             "#fdca26"
            ],
            [
             1,
             "#f0f921"
            ]
           ]
          },
          "colorway": [
           "#636efa",
           "#EF553B",
           "#00cc96",
           "#ab63fa",
           "#FFA15A",
           "#19d3f3",
           "#FF6692",
           "#B6E880",
           "#FF97FF",
           "#FECB52"
          ],
          "font": {
           "color": "#2a3f5f"
          },
          "geo": {
           "bgcolor": "white",
           "lakecolor": "white",
           "landcolor": "#E5ECF6",
           "showlakes": true,
           "showland": true,
           "subunitcolor": "white"
          },
          "hoverlabel": {
           "align": "left"
          },
          "hovermode": "closest",
          "mapbox": {
           "style": "light"
          },
          "paper_bgcolor": "white",
          "plot_bgcolor": "#E5ECF6",
          "polar": {
           "angularaxis": {
            "gridcolor": "white",
            "linecolor": "white",
            "ticks": ""
           },
           "bgcolor": "#E5ECF6",
           "radialaxis": {
            "gridcolor": "white",
            "linecolor": "white",
            "ticks": ""
           }
          },
          "scene": {
           "xaxis": {
            "backgroundcolor": "#E5ECF6",
            "gridcolor": "white",
            "gridwidth": 2,
            "linecolor": "white",
            "showbackground": true,
            "ticks": "",
            "zerolinecolor": "white"
           },
           "yaxis": {
            "backgroundcolor": "#E5ECF6",
            "gridcolor": "white",
            "gridwidth": 2,
            "linecolor": "white",
            "showbackground": true,
            "ticks": "",
            "zerolinecolor": "white"
           },
           "zaxis": {
            "backgroundcolor": "#E5ECF6",
            "gridcolor": "white",
            "gridwidth": 2,
            "linecolor": "white",
            "showbackground": true,
            "ticks": "",
            "zerolinecolor": "white"
           }
          },
          "shapedefaults": {
           "line": {
            "color": "#2a3f5f"
           }
          },
          "ternary": {
           "aaxis": {
            "gridcolor": "white",
            "linecolor": "white",
            "ticks": ""
           },
           "baxis": {
            "gridcolor": "white",
            "linecolor": "white",
            "ticks": ""
           },
           "bgcolor": "#E5ECF6",
           "caxis": {
            "gridcolor": "white",
            "linecolor": "white",
            "ticks": ""
           }
          },
          "title": {
           "x": 0.05
          },
          "xaxis": {
           "automargin": true,
           "gridcolor": "white",
           "linecolor": "white",
           "ticks": "",
           "title": {
            "standoff": 15
           },
           "zerolinecolor": "white",
           "zerolinewidth": 2
          },
          "yaxis": {
           "automargin": true,
           "gridcolor": "white",
           "linecolor": "white",
           "ticks": "",
           "title": {
            "standoff": 15
           },
           "zerolinecolor": "white",
           "zerolinewidth": 2
          }
         }
        },
        "title": {
         "text": "Age Distribution by Gender"
        },
        "xaxis": {
         "anchor": "y",
         "domain": [
          0,
          1
         ],
         "title": {
          "text": "Age"
         }
        },
        "yaxis": {
         "anchor": "x",
         "domain": [
          0,
          1
         ],
         "title": {
          "text": "Count"
         }
        }
       }
      }
     },
     "metadata": {},
     "output_type": "display_data"
    }
   ],
   "source": [
    "# age distribution\n",
    "\n",
    "fig = px.histogram(data, \n",
    "                   x = 'Age',\n",
    "                   color = 'Gender',\n",
    "                   nbins = 20,\n",
    "                   title = \"Age Distribution by Gender\")\n",
    "fig.update_layout(xaxis_title = 'Age',\n",
    "                  yaxis_title = 'Count')\n",
    "fig.show()"
   ]
  },
  {
   "cell_type": "code",
   "execution_count": 10,
   "metadata": {},
   "outputs": [
    {
     "data": {
      "application/vnd.plotly.v1+json": {
       "config": {
        "plotlyServerURL": "https://plot.ly"
       },
       "data": [
        {
         "alignmentgroup": "True",
         "hovertemplate": "Gender=Male<br>Education Level=%{x}<br>count=%{y}<extra></extra>",
         "legendgroup": "Male",
         "marker": {
          "color": "#636efa",
          "pattern": {
           "shape": ""
          }
         },
         "name": "Male",
         "offsetgroup": "Male",
         "orientation": "v",
         "showlegend": true,
         "textposition": "auto",
         "type": "bar",
         "x": [
          "High School",
          "Ph.D.",
          "Bachelor's Degree",
          "Bachelor's Degree",
          "Bachelor's Degree",
          "Master's Degree",
          "Master's Degree",
          "Bachelor's Degree",
          "Bachelor's Degree",
          "Master's Degree",
          "Bachelor's Degree",
          "Ph.D.",
          "Ph.D.",
          "Ph.D.",
          "Ph.D.",
          "Master's Degree",
          "High School",
          "Bachelor's Degree",
          "Master's Degree",
          "High School",
          "High School",
          "High School",
          "Bachelor's Degree",
          "High School",
          "Ph.D.",
          "Master's Degree",
          "High School",
          "Master's Degree",
          "Ph.D.",
          "Bachelor's Degree",
          "Ph.D.",
          "Master's Degree",
          "Master's Degree",
          "Bachelor's Degree",
          "High School",
          "Master's Degree",
          "Bachelor's Degree",
          "Master's Degree",
          "Ph.D.",
          "Bachelor's Degree",
          "Ph.D.",
          "Master's Degree",
          "High School",
          "Ph.D.",
          "Bachelor's Degree",
          "High School",
          "Master's Degree",
          "Ph.D.",
          "Master's Degree",
          "Master's Degree",
          "High School",
          "Master's Degree",
          "High School",
          "High School",
          "High School",
          "Ph.D.",
          "Ph.D.",
          "Master's Degree",
          "High School",
          "Ph.D.",
          "Bachelor's Degree",
          "Ph.D.",
          "Master's Degree",
          "Ph.D.",
          "Bachelor's Degree",
          "Ph.D.",
          "Master's Degree",
          "Bachelor's Degree",
          "Ph.D.",
          "Bachelor's Degree",
          "Bachelor's Degree",
          "Master's Degree",
          "Bachelor's Degree",
          "Master's Degree",
          "Bachelor's Degree",
          "Master's Degree",
          "Bachelor's Degree",
          "High School",
          "Master's Degree",
          "Master's Degree",
          "High School",
          "Ph.D.",
          "Ph.D.",
          "Bachelor's Degree",
          "Master's Degree",
          "High School",
          "Bachelor's Degree",
          "Ph.D.",
          "Bachelor's Degree",
          "Ph.D.",
          "Ph.D.",
          "Master's Degree",
          "Master's Degree",
          "Ph.D.",
          "High School",
          "Master's Degree",
          "Master's Degree",
          "Bachelor's Degree",
          "Master's Degree",
          "Master's Degree",
          "Master's Degree",
          "Bachelor's Degree",
          "Bachelor's Degree",
          "Ph.D.",
          "High School",
          "Bachelor's Degree",
          "Ph.D.",
          "Ph.D.",
          "Bachelor's Degree",
          "Bachelor's Degree",
          "Bachelor's Degree",
          "High School",
          "Master's Degree",
          "Ph.D.",
          "Bachelor's Degree",
          "High School",
          "Bachelor's Degree",
          "Master's Degree",
          "High School",
          "High School",
          "Bachelor's Degree",
          "Master's Degree",
          "Bachelor's Degree",
          "Bachelor's Degree",
          "Ph.D.",
          "Bachelor's Degree",
          "High School",
          "Master's Degree",
          "Bachelor's Degree",
          "Master's Degree",
          "Bachelor's Degree",
          "Ph.D.",
          "Ph.D.",
          "Master's Degree",
          "Bachelor's Degree",
          "Bachelor's Degree",
          "Ph.D.",
          "Ph.D.",
          "Master's Degree",
          "Bachelor's Degree",
          "Bachelor's Degree",
          "High School",
          "Bachelor's Degree",
          "High School",
          "Ph.D.",
          "Master's Degree",
          "Master's Degree",
          "Bachelor's Degree",
          "Ph.D.",
          "Ph.D.",
          "High School",
          "High School",
          "Bachelor's Degree",
          "Master's Degree",
          "Master's Degree",
          "Master's Degree",
          "Bachelor's Degree",
          "Master's Degree",
          "Master's Degree",
          "Bachelor's Degree",
          "Master's Degree",
          "Bachelor's Degree",
          "Bachelor's Degree",
          "Bachelor's Degree",
          "Master's Degree",
          "High School",
          "Ph.D.",
          "Bachelor's Degree",
          "Ph.D.",
          "High School",
          "Bachelor's Degree",
          "High School",
          "High School",
          "Master's Degree",
          "Ph.D.",
          "High School",
          "Bachelor's Degree",
          "High School",
          "Master's Degree",
          "High School",
          "Bachelor's Degree",
          "Bachelor's Degree",
          "Master's Degree",
          "Ph.D.",
          "High School",
          "Master's Degree",
          "Ph.D.",
          "High School",
          "Bachelor's Degree",
          "High School",
          "Master's Degree",
          "Master's Degree",
          "Master's Degree",
          "Bachelor's Degree",
          "High School",
          "High School",
          "Ph.D.",
          "Master's Degree",
          "Master's Degree",
          "Master's Degree",
          "Bachelor's Degree",
          "High School",
          "Bachelor's Degree",
          "High School",
          "Bachelor's Degree",
          "Ph.D.",
          "Bachelor's Degree",
          "Bachelor's Degree",
          "Master's Degree",
          "High School",
          "Master's Degree",
          "Ph.D.",
          "Bachelor's Degree",
          "High School",
          "Bachelor's Degree",
          "Master's Degree",
          "Bachelor's Degree",
          "High School",
          "Bachelor's Degree",
          "Bachelor's Degree",
          "High School",
          "Ph.D.",
          "High School",
          "Bachelor's Degree",
          "High School",
          "High School",
          "High School",
          "Bachelor's Degree",
          "Ph.D.",
          "Bachelor's Degree",
          "Ph.D.",
          "Master's Degree",
          "Ph.D.",
          "Ph.D.",
          "High School",
          "Bachelor's Degree",
          "Ph.D.",
          "Master's Degree",
          "Master's Degree",
          "Master's Degree",
          "Bachelor's Degree",
          "Ph.D.",
          "High School",
          "Bachelor's Degree",
          "Ph.D.",
          "Master's Degree",
          "Bachelor's Degree",
          "Bachelor's Degree",
          "Bachelor's Degree",
          "High School",
          "Ph.D."
         ],
         "xaxis": "x",
         "y": [
          1,
          1,
          1,
          1,
          1,
          1,
          1,
          1,
          1,
          1,
          1,
          1,
          1,
          1,
          1,
          1,
          1,
          1,
          1,
          1,
          1,
          1,
          1,
          1,
          1,
          1,
          1,
          1,
          1,
          1,
          1,
          1,
          1,
          1,
          1,
          1,
          1,
          1,
          1,
          1,
          1,
          1,
          1,
          1,
          1,
          1,
          1,
          1,
          1,
          1,
          1,
          1,
          1,
          1,
          1,
          1,
          1,
          1,
          1,
          1,
          1,
          1,
          1,
          1,
          1,
          1,
          1,
          1,
          1,
          1,
          1,
          1,
          1,
          1,
          1,
          1,
          1,
          1,
          1,
          1,
          1,
          1,
          1,
          1,
          1,
          1,
          1,
          1,
          1,
          1,
          1,
          1,
          1,
          1,
          1,
          1,
          1,
          1,
          1,
          1,
          1,
          1,
          1,
          1,
          1,
          1,
          1,
          1,
          1,
          1,
          1,
          1,
          1,
          1,
          1,
          1,
          1,
          1,
          1,
          1,
          1,
          1,
          1,
          1,
          1,
          1,
          1,
          1,
          1,
          1,
          1,
          1,
          1,
          1,
          1,
          1,
          1,
          1,
          1,
          1,
          1,
          1,
          1,
          1,
          1,
          1,
          1,
          1,
          1,
          1,
          1,
          1,
          1,
          1,
          1,
          1,
          1,
          1,
          1,
          1,
          1,
          1,
          1,
          1,
          1,
          1,
          1,
          1,
          1,
          1,
          1,
          1,
          1,
          1,
          1,
          1,
          1,
          1,
          1,
          1,
          1,
          1,
          1,
          1,
          1,
          1,
          1,
          1,
          1,
          1,
          1,
          1,
          1,
          1,
          1,
          1,
          1,
          1,
          1,
          1,
          1,
          1,
          1,
          1,
          1,
          1,
          1,
          1,
          1,
          1,
          1,
          1,
          1,
          1,
          1,
          1,
          1,
          1,
          1,
          1,
          1,
          1,
          1,
          1,
          1,
          1,
          1,
          1,
          1,
          1,
          1,
          1,
          1,
          1,
          1,
          1,
          1,
          1,
          1,
          1,
          1,
          1,
          1,
          1,
          1,
          1,
          1,
          1,
          1,
          1,
          1
         ],
         "yaxis": "y"
        },
        {
         "alignmentgroup": "True",
         "hovertemplate": "Gender=Female<br>Education Level=%{x}<br>count=%{y}<extra></extra>",
         "legendgroup": "Female",
         "marker": {
          "color": "#EF553B",
          "pattern": {
           "shape": ""
          }
         },
         "name": "Female",
         "offsetgroup": "Female",
         "orientation": "v",
         "showlegend": true,
         "textposition": "auto",
         "type": "bar",
         "x": [
          "Master's Degree",
          "Bachelor's Degree",
          "Ph.D.",
          "Master's Degree",
          "Master's Degree",
          "High School",
          "Ph.D.",
          "Master's Degree",
          "Ph.D.",
          "Bachelor's Degree",
          "High School",
          "Bachelor's Degree",
          "Ph.D.",
          "Master's Degree",
          "Bachelor's Degree",
          "Master's Degree",
          "High School",
          "High School",
          "Ph.D.",
          "Ph.D.",
          "Master's Degree",
          "Bachelor's Degree",
          "Ph.D.",
          "Bachelor's Degree",
          "High School",
          "Bachelor's Degree",
          "High School",
          "Bachelor's Degree",
          "High School",
          "Master's Degree",
          "High School",
          "Ph.D.",
          "Ph.D.",
          "High School",
          "Ph.D.",
          "Ph.D.",
          "Bachelor's Degree",
          "Master's Degree",
          "Bachelor's Degree",
          "High School",
          "Bachelor's Degree",
          "Master's Degree",
          "Ph.D.",
          "Ph.D.",
          "Bachelor's Degree",
          "Bachelor's Degree",
          "Ph.D.",
          "High School",
          "Bachelor's Degree",
          "Ph.D.",
          "Bachelor's Degree",
          "Ph.D.",
          "High School",
          "Ph.D.",
          "Master's Degree",
          "High School",
          "Bachelor's Degree",
          "Ph.D.",
          "Bachelor's Degree",
          "Master's Degree",
          "Master's Degree",
          "Bachelor's Degree",
          "Master's Degree",
          "High School",
          "Bachelor's Degree",
          "Ph.D.",
          "Ph.D.",
          "Bachelor's Degree",
          "High School",
          "Master's Degree",
          "Master's Degree",
          "Bachelor's Degree",
          "Ph.D.",
          "Master's Degree",
          "Master's Degree",
          "High School",
          "Ph.D.",
          "Master's Degree",
          "High School",
          "High School",
          "High School",
          "Bachelor's Degree",
          "High School",
          "Bachelor's Degree",
          "Master's Degree",
          "High School",
          "Ph.D.",
          "Master's Degree",
          "Master's Degree",
          "Bachelor's Degree",
          "Master's Degree",
          "High School",
          "High School",
          "High School",
          "High School",
          "High School",
          "Bachelor's Degree",
          "Ph.D.",
          "Bachelor's Degree",
          "Master's Degree",
          "Bachelor's Degree",
          "High School",
          "Bachelor's Degree",
          "Ph.D.",
          "Ph.D.",
          "Master's Degree",
          "Master's Degree",
          "High School",
          "Master's Degree",
          "Bachelor's Degree",
          "High School",
          "Master's Degree",
          "Bachelor's Degree",
          "Ph.D.",
          "Bachelor's Degree",
          "Ph.D.",
          "Ph.D.",
          "High School",
          "Master's Degree",
          "Bachelor's Degree",
          "Master's Degree",
          "Ph.D.",
          "Bachelor's Degree",
          "High School",
          "High School",
          "Bachelor's Degree",
          "High School",
          "Ph.D.",
          "Ph.D.",
          "High School",
          "Ph.D.",
          "Bachelor's Degree",
          "Bachelor's Degree",
          "Bachelor's Degree",
          "Ph.D.",
          "Bachelor's Degree",
          "High School",
          "Bachelor's Degree",
          "Master's Degree",
          "Master's Degree",
          "Bachelor's Degree",
          "Ph.D.",
          "Ph.D.",
          "Ph.D.",
          "Ph.D.",
          "High School",
          "Bachelor's Degree",
          "High School",
          "Master's Degree",
          "High School",
          "High School",
          "Master's Degree",
          "High School",
          "Bachelor's Degree",
          "Master's Degree",
          "High School",
          "Master's Degree",
          "Master's Degree",
          "High School",
          "Ph.D.",
          "Master's Degree",
          "High School",
          "Ph.D.",
          "Bachelor's Degree",
          "Ph.D.",
          "Ph.D.",
          "High School",
          "Bachelor's Degree",
          "Ph.D.",
          "Ph.D.",
          "Master's Degree",
          "Ph.D.",
          "Ph.D.",
          "Ph.D.",
          "High School",
          "Master's Degree",
          "Ph.D.",
          "Bachelor's Degree",
          "Bachelor's Degree",
          "High School",
          "Bachelor's Degree",
          "High School",
          "High School",
          "Ph.D.",
          "Master's Degree",
          "Bachelor's Degree",
          "Ph.D.",
          "Bachelor's Degree",
          "Master's Degree",
          "Bachelor's Degree",
          "Ph.D.",
          "Master's Degree",
          "Master's Degree",
          "Ph.D.",
          "Ph.D.",
          "High School",
          "High School",
          "Bachelor's Degree",
          "Master's Degree",
          "Master's Degree",
          "High School",
          "High School",
          "Bachelor's Degree",
          "Master's Degree",
          "Bachelor's Degree",
          "High School",
          "Bachelor's Degree",
          "High School",
          "Bachelor's Degree",
          "Bachelor's Degree",
          "High School",
          "High School",
          "High School",
          "Bachelor's Degree",
          "High School",
          "Bachelor's Degree",
          "Ph.D.",
          "Master's Degree",
          "Master's Degree",
          "Bachelor's Degree",
          "Bachelor's Degree",
          "Ph.D.",
          "Master's Degree",
          "Bachelor's Degree",
          "High School",
          "Ph.D.",
          "High School",
          "Bachelor's Degree",
          "High School",
          "High School",
          "Master's Degree",
          "Ph.D.",
          "High School",
          "Master's Degree",
          "High School",
          "Bachelor's Degree",
          "High School",
          "Ph.D.",
          "Master's Degree",
          "Master's Degree",
          "Bachelor's Degree",
          "High School",
          "Master's Degree",
          "Ph.D.",
          "Bachelor's Degree",
          "Bachelor's Degree",
          "Master's Degree",
          "High School",
          "High School"
         ],
         "xaxis": "x",
         "y": [
          1,
          1,
          1,
          1,
          1,
          1,
          1,
          1,
          1,
          1,
          1,
          1,
          1,
          1,
          1,
          1,
          1,
          1,
          1,
          1,
          1,
          1,
          1,
          1,
          1,
          1,
          1,
          1,
          1,
          1,
          1,
          1,
          1,
          1,
          1,
          1,
          1,
          1,
          1,
          1,
          1,
          1,
          1,
          1,
          1,
          1,
          1,
          1,
          1,
          1,
          1,
          1,
          1,
          1,
          1,
          1,
          1,
          1,
          1,
          1,
          1,
          1,
          1,
          1,
          1,
          1,
          1,
          1,
          1,
          1,
          1,
          1,
          1,
          1,
          1,
          1,
          1,
          1,
          1,
          1,
          1,
          1,
          1,
          1,
          1,
          1,
          1,
          1,
          1,
          1,
          1,
          1,
          1,
          1,
          1,
          1,
          1,
          1,
          1,
          1,
          1,
          1,
          1,
          1,
          1,
          1,
          1,
          1,
          1,
          1,
          1,
          1,
          1,
          1,
          1,
          1,
          1,
          1,
          1,
          1,
          1,
          1,
          1,
          1,
          1,
          1,
          1,
          1,
          1,
          1,
          1,
          1,
          1,
          1,
          1,
          1,
          1,
          1,
          1,
          1,
          1,
          1,
          1,
          1,
          1,
          1,
          1,
          1,
          1,
          1,
          1,
          1,
          1,
          1,
          1,
          1,
          1,
          1,
          1,
          1,
          1,
          1,
          1,
          1,
          1,
          1,
          1,
          1,
          1,
          1,
          1,
          1,
          1,
          1,
          1,
          1,
          1,
          1,
          1,
          1,
          1,
          1,
          1,
          1,
          1,
          1,
          1,
          1,
          1,
          1,
          1,
          1,
          1,
          1,
          1,
          1,
          1,
          1,
          1,
          1,
          1,
          1,
          1,
          1,
          1,
          1,
          1,
          1,
          1,
          1,
          1,
          1,
          1,
          1,
          1,
          1,
          1,
          1,
          1,
          1,
          1,
          1,
          1,
          1,
          1,
          1,
          1,
          1,
          1,
          1,
          1,
          1,
          1,
          1,
          1,
          1,
          1,
          1,
          1,
          1,
          1,
          1,
          1,
          1,
          1,
          1,
          1,
          1,
          1
         ],
         "yaxis": "y"
        }
       ],
       "layout": {
        "barmode": "relative",
        "legend": {
         "title": {
          "text": "Gender"
         },
         "tracegroupgap": 0
        },
        "template": {
         "data": {
          "bar": [
           {
            "error_x": {
             "color": "#2a3f5f"
            },
            "error_y": {
             "color": "#2a3f5f"
            },
            "marker": {
             "line": {
              "color": "#E5ECF6",
              "width": 0.5
             },
             "pattern": {
              "fillmode": "overlay",
              "size": 10,
              "solidity": 0.2
             }
            },
            "type": "bar"
           }
          ],
          "barpolar": [
           {
            "marker": {
             "line": {
              "color": "#E5ECF6",
              "width": 0.5
             },
             "pattern": {
              "fillmode": "overlay",
              "size": 10,
              "solidity": 0.2
             }
            },
            "type": "barpolar"
           }
          ],
          "carpet": [
           {
            "aaxis": {
             "endlinecolor": "#2a3f5f",
             "gridcolor": "white",
             "linecolor": "white",
             "minorgridcolor": "white",
             "startlinecolor": "#2a3f5f"
            },
            "baxis": {
             "endlinecolor": "#2a3f5f",
             "gridcolor": "white",
             "linecolor": "white",
             "minorgridcolor": "white",
             "startlinecolor": "#2a3f5f"
            },
            "type": "carpet"
           }
          ],
          "choropleth": [
           {
            "colorbar": {
             "outlinewidth": 0,
             "ticks": ""
            },
            "type": "choropleth"
           }
          ],
          "contour": [
           {
            "colorbar": {
             "outlinewidth": 0,
             "ticks": ""
            },
            "colorscale": [
             [
              0,
              "#0d0887"
             ],
             [
              0.1111111111111111,
              "#46039f"
             ],
             [
              0.2222222222222222,
              "#7201a8"
             ],
             [
              0.3333333333333333,
              "#9c179e"
             ],
             [
              0.4444444444444444,
              "#bd3786"
             ],
             [
              0.5555555555555556,
              "#d8576b"
             ],
             [
              0.6666666666666666,
              "#ed7953"
             ],
             [
              0.7777777777777778,
              "#fb9f3a"
             ],
             [
              0.8888888888888888,
              "#fdca26"
             ],
             [
              1,
              "#f0f921"
             ]
            ],
            "type": "contour"
           }
          ],
          "contourcarpet": [
           {
            "colorbar": {
             "outlinewidth": 0,
             "ticks": ""
            },
            "type": "contourcarpet"
           }
          ],
          "heatmap": [
           {
            "colorbar": {
             "outlinewidth": 0,
             "ticks": ""
            },
            "colorscale": [
             [
              0,
              "#0d0887"
             ],
             [
              0.1111111111111111,
              "#46039f"
             ],
             [
              0.2222222222222222,
              "#7201a8"
             ],
             [
              0.3333333333333333,
              "#9c179e"
             ],
             [
              0.4444444444444444,
              "#bd3786"
             ],
             [
              0.5555555555555556,
              "#d8576b"
             ],
             [
              0.6666666666666666,
              "#ed7953"
             ],
             [
              0.7777777777777778,
              "#fb9f3a"
             ],
             [
              0.8888888888888888,
              "#fdca26"
             ],
             [
              1,
              "#f0f921"
             ]
            ],
            "type": "heatmap"
           }
          ],
          "heatmapgl": [
           {
            "colorbar": {
             "outlinewidth": 0,
             "ticks": ""
            },
            "colorscale": [
             [
              0,
              "#0d0887"
             ],
             [
              0.1111111111111111,
              "#46039f"
             ],
             [
              0.2222222222222222,
              "#7201a8"
             ],
             [
              0.3333333333333333,
              "#9c179e"
             ],
             [
              0.4444444444444444,
              "#bd3786"
             ],
             [
              0.5555555555555556,
              "#d8576b"
             ],
             [
              0.6666666666666666,
              "#ed7953"
             ],
             [
              0.7777777777777778,
              "#fb9f3a"
             ],
             [
              0.8888888888888888,
              "#fdca26"
             ],
             [
              1,
              "#f0f921"
             ]
            ],
            "type": "heatmapgl"
           }
          ],
          "histogram": [
           {
            "marker": {
             "pattern": {
              "fillmode": "overlay",
              "size": 10,
              "solidity": 0.2
             }
            },
            "type": "histogram"
           }
          ],
          "histogram2d": [
           {
            "colorbar": {
             "outlinewidth": 0,
             "ticks": ""
            },
            "colorscale": [
             [
              0,
              "#0d0887"
             ],
             [
              0.1111111111111111,
              "#46039f"
             ],
             [
              0.2222222222222222,
              "#7201a8"
             ],
             [
              0.3333333333333333,
              "#9c179e"
             ],
             [
              0.4444444444444444,
              "#bd3786"
             ],
             [
              0.5555555555555556,
              "#d8576b"
             ],
             [
              0.6666666666666666,
              "#ed7953"
             ],
             [
              0.7777777777777778,
              "#fb9f3a"
             ],
             [
              0.8888888888888888,
              "#fdca26"
             ],
             [
              1,
              "#f0f921"
             ]
            ],
            "type": "histogram2d"
           }
          ],
          "histogram2dcontour": [
           {
            "colorbar": {
             "outlinewidth": 0,
             "ticks": ""
            },
            "colorscale": [
             [
              0,
              "#0d0887"
             ],
             [
              0.1111111111111111,
              "#46039f"
             ],
             [
              0.2222222222222222,
              "#7201a8"
             ],
             [
              0.3333333333333333,
              "#9c179e"
             ],
             [
              0.4444444444444444,
              "#bd3786"
             ],
             [
              0.5555555555555556,
              "#d8576b"
             ],
             [
              0.6666666666666666,
              "#ed7953"
             ],
             [
              0.7777777777777778,
              "#fb9f3a"
             ],
             [
              0.8888888888888888,
              "#fdca26"
             ],
             [
              1,
              "#f0f921"
             ]
            ],
            "type": "histogram2dcontour"
           }
          ],
          "mesh3d": [
           {
            "colorbar": {
             "outlinewidth": 0,
             "ticks": ""
            },
            "type": "mesh3d"
           }
          ],
          "parcoords": [
           {
            "line": {
             "colorbar": {
              "outlinewidth": 0,
              "ticks": ""
             }
            },
            "type": "parcoords"
           }
          ],
          "pie": [
           {
            "automargin": true,
            "type": "pie"
           }
          ],
          "scatter": [
           {
            "fillpattern": {
             "fillmode": "overlay",
             "size": 10,
             "solidity": 0.2
            },
            "type": "scatter"
           }
          ],
          "scatter3d": [
           {
            "line": {
             "colorbar": {
              "outlinewidth": 0,
              "ticks": ""
             }
            },
            "marker": {
             "colorbar": {
              "outlinewidth": 0,
              "ticks": ""
             }
            },
            "type": "scatter3d"
           }
          ],
          "scattercarpet": [
           {
            "marker": {
             "colorbar": {
              "outlinewidth": 0,
              "ticks": ""
             }
            },
            "type": "scattercarpet"
           }
          ],
          "scattergeo": [
           {
            "marker": {
             "colorbar": {
              "outlinewidth": 0,
              "ticks": ""
             }
            },
            "type": "scattergeo"
           }
          ],
          "scattergl": [
           {
            "marker": {
             "colorbar": {
              "outlinewidth": 0,
              "ticks": ""
             }
            },
            "type": "scattergl"
           }
          ],
          "scattermapbox": [
           {
            "marker": {
             "colorbar": {
              "outlinewidth": 0,
              "ticks": ""
             }
            },
            "type": "scattermapbox"
           }
          ],
          "scatterpolar": [
           {
            "marker": {
             "colorbar": {
              "outlinewidth": 0,
              "ticks": ""
             }
            },
            "type": "scatterpolar"
           }
          ],
          "scatterpolargl": [
           {
            "marker": {
             "colorbar": {
              "outlinewidth": 0,
              "ticks": ""
             }
            },
            "type": "scatterpolargl"
           }
          ],
          "scatterternary": [
           {
            "marker": {
             "colorbar": {
              "outlinewidth": 0,
              "ticks": ""
             }
            },
            "type": "scatterternary"
           }
          ],
          "surface": [
           {
            "colorbar": {
             "outlinewidth": 0,
             "ticks": ""
            },
            "colorscale": [
             [
              0,
              "#0d0887"
             ],
             [
              0.1111111111111111,
              "#46039f"
             ],
             [
              0.2222222222222222,
              "#7201a8"
             ],
             [
              0.3333333333333333,
              "#9c179e"
             ],
             [
              0.4444444444444444,
              "#bd3786"
             ],
             [
              0.5555555555555556,
              "#d8576b"
             ],
             [
              0.6666666666666666,
              "#ed7953"
             ],
             [
              0.7777777777777778,
              "#fb9f3a"
             ],
             [
              0.8888888888888888,
              "#fdca26"
             ],
             [
              1,
              "#f0f921"
             ]
            ],
            "type": "surface"
           }
          ],
          "table": [
           {
            "cells": {
             "fill": {
              "color": "#EBF0F8"
             },
             "line": {
              "color": "white"
             }
            },
            "header": {
             "fill": {
              "color": "#C8D4E3"
             },
             "line": {
              "color": "white"
             }
            },
            "type": "table"
           }
          ]
         },
         "layout": {
          "annotationdefaults": {
           "arrowcolor": "#2a3f5f",
           "arrowhead": 0,
           "arrowwidth": 1
          },
          "autotypenumbers": "strict",
          "coloraxis": {
           "colorbar": {
            "outlinewidth": 0,
            "ticks": ""
           }
          },
          "colorscale": {
           "diverging": [
            [
             0,
             "#8e0152"
            ],
            [
             0.1,
             "#c51b7d"
            ],
            [
             0.2,
             "#de77ae"
            ],
            [
             0.3,
             "#f1b6da"
            ],
            [
             0.4,
             "#fde0ef"
            ],
            [
             0.5,
             "#f7f7f7"
            ],
            [
             0.6,
             "#e6f5d0"
            ],
            [
             0.7,
             "#b8e186"
            ],
            [
             0.8,
             "#7fbc41"
            ],
            [
             0.9,
             "#4d9221"
            ],
            [
             1,
             "#276419"
            ]
           ],
           "sequential": [
            [
             0,
             "#0d0887"
            ],
            [
             0.1111111111111111,
             "#46039f"
            ],
            [
             0.2222222222222222,
             "#7201a8"
            ],
            [
             0.3333333333333333,
             "#9c179e"
            ],
            [
             0.4444444444444444,
             "#bd3786"
            ],
            [
             0.5555555555555556,
             "#d8576b"
            ],
            [
             0.6666666666666666,
             "#ed7953"
            ],
            [
             0.7777777777777778,
             "#fb9f3a"
            ],
            [
             0.8888888888888888,
             "#fdca26"
            ],
            [
             1,
             "#f0f921"
            ]
           ],
           "sequentialminus": [
            [
             0,
             "#0d0887"
            ],
            [
             0.1111111111111111,
             "#46039f"
            ],
            [
             0.2222222222222222,
             "#7201a8"
            ],
            [
             0.3333333333333333,
             "#9c179e"
            ],
            [
             0.4444444444444444,
             "#bd3786"
            ],
            [
             0.5555555555555556,
             "#d8576b"
            ],
            [
             0.6666666666666666,
             "#ed7953"
            ],
            [
             0.7777777777777778,
             "#fb9f3a"
            ],
            [
             0.8888888888888888,
             "#fdca26"
            ],
            [
             1,
             "#f0f921"
            ]
           ]
          },
          "colorway": [
           "#636efa",
           "#EF553B",
           "#00cc96",
           "#ab63fa",
           "#FFA15A",
           "#19d3f3",
           "#FF6692",
           "#B6E880",
           "#FF97FF",
           "#FECB52"
          ],
          "font": {
           "color": "#2a3f5f"
          },
          "geo": {
           "bgcolor": "white",
           "lakecolor": "white",
           "landcolor": "#E5ECF6",
           "showlakes": true,
           "showland": true,
           "subunitcolor": "white"
          },
          "hoverlabel": {
           "align": "left"
          },
          "hovermode": "closest",
          "mapbox": {
           "style": "light"
          },
          "paper_bgcolor": "white",
          "plot_bgcolor": "#E5ECF6",
          "polar": {
           "angularaxis": {
            "gridcolor": "white",
            "linecolor": "white",
            "ticks": ""
           },
           "bgcolor": "#E5ECF6",
           "radialaxis": {
            "gridcolor": "white",
            "linecolor": "white",
            "ticks": ""
           }
          },
          "scene": {
           "xaxis": {
            "backgroundcolor": "#E5ECF6",
            "gridcolor": "white",
            "gridwidth": 2,
            "linecolor": "white",
            "showbackground": true,
            "ticks": "",
            "zerolinecolor": "white"
           },
           "yaxis": {
            "backgroundcolor": "#E5ECF6",
            "gridcolor": "white",
            "gridwidth": 2,
            "linecolor": "white",
            "showbackground": true,
            "ticks": "",
            "zerolinecolor": "white"
           },
           "zaxis": {
            "backgroundcolor": "#E5ECF6",
            "gridcolor": "white",
            "gridwidth": 2,
            "linecolor": "white",
            "showbackground": true,
            "ticks": "",
            "zerolinecolor": "white"
           }
          },
          "shapedefaults": {
           "line": {
            "color": "#2a3f5f"
           }
          },
          "ternary": {
           "aaxis": {
            "gridcolor": "white",
            "linecolor": "white",
            "ticks": ""
           },
           "baxis": {
            "gridcolor": "white",
            "linecolor": "white",
            "ticks": ""
           },
           "bgcolor": "#E5ECF6",
           "caxis": {
            "gridcolor": "white",
            "linecolor": "white",
            "ticks": ""
           }
          },
          "title": {
           "x": 0.05
          },
          "xaxis": {
           "automargin": true,
           "gridcolor": "white",
           "linecolor": "white",
           "ticks": "",
           "title": {
            "standoff": 15
           },
           "zerolinecolor": "white",
           "zerolinewidth": 2
          },
          "yaxis": {
           "automargin": true,
           "gridcolor": "white",
           "linecolor": "white",
           "ticks": "",
           "title": {
            "standoff": 15
           },
           "zerolinecolor": "white",
           "zerolinewidth": 2
          }
         }
        },
        "title": {
         "text": "Education Level Distribution by Gender"
        },
        "xaxis": {
         "anchor": "y",
         "categoryarray": [
          "High School",
          "Bachelor's Degree",
          "Master's Degree",
          "Ph.D."
         ],
         "categoryorder": "array",
         "domain": [
          0,
          1
         ],
         "title": {
          "text": "Education Level"
         }
        },
        "yaxis": {
         "anchor": "x",
         "domain": [
          0,
          1
         ],
         "title": {
          "text": "Count"
         }
        }
       }
      }
     },
     "metadata": {},
     "output_type": "display_data"
    }
   ],
   "source": [
    "# education level\n",
    "\n",
    "education_order = [\"High School\", \"Bachelor's Degree\", \"Master's Degree\", \"Ph.D.\"]\n",
    "fig = px.bar(data, \n",
    "             x = \"Education Level\",\n",
    "             color = \"Gender\",\n",
    "             category_orders = {\"Education Level\": education_order},\n",
    "             title = 'Education Level Distribution by Gender')\n",
    "\n",
    "fig.update_layout(xaxis_title = \"Education Level\",\n",
    "                  yaxis_title = \"Count\")\n",
    "\n",
    "fig.show()"
   ]
  },
  {
   "cell_type": "code",
   "execution_count": 13,
   "metadata": {},
   "outputs": [
    {
     "data": {
      "application/vnd.plotly.v1+json": {
       "config": {
        "plotlyServerURL": "https://plot.ly"
       },
       "data": [
        {
         "alignmentgroup": "True",
         "hovertemplate": "Gender=Male<br>Frequency of Usage=%{x}<br>count=%{y}<extra></extra>",
         "legendgroup": "Male",
         "marker": {
          "color": "#636efa",
          "pattern": {
           "shape": ""
          }
         },
         "name": "Male",
         "offsetgroup": "Male",
         "orientation": "v",
         "showlegend": true,
         "textposition": "auto",
         "type": "bar",
         "x": [
          "Weekly",
          "Monthly",
          "Daily",
          "Monthly",
          "Weekly",
          "Daily",
          "Daily",
          "Weekly",
          "Daily",
          "Monthly",
          "Monthly",
          "Weekly",
          "Weekly",
          "Weekly",
          "Daily",
          "Monthly",
          "Daily",
          "Monthly",
          "Daily",
          "Weekly",
          "Weekly",
          "Daily",
          "Monthly",
          "Monthly",
          "Monthly",
          "Monthly",
          "Monthly",
          "Weekly",
          "Weekly",
          "Daily",
          "Weekly",
          "Weekly",
          "Daily",
          "Daily",
          "Weekly",
          "Daily",
          "Monthly",
          "Monthly",
          "Weekly",
          "Monthly",
          "Weekly",
          "Daily",
          "Weekly",
          "Weekly",
          "Daily",
          "Weekly",
          "Daily",
          "Daily",
          "Monthly",
          "Daily",
          "Daily",
          "Daily",
          "Monthly",
          "Monthly",
          "Daily",
          "Daily",
          "Weekly",
          "Weekly",
          "Daily",
          "Monthly",
          "Daily",
          "Daily",
          "Weekly",
          "Daily",
          "Weekly",
          "Monthly",
          "Monthly",
          "Monthly",
          "Daily",
          "Weekly",
          "Daily",
          "Daily",
          "Daily",
          "Weekly",
          "Monthly",
          "Daily",
          "Daily",
          "Daily",
          "Monthly",
          "Daily",
          "Monthly",
          "Weekly",
          "Daily",
          "Weekly",
          "Daily",
          "Daily",
          "Weekly",
          "Monthly",
          "Daily",
          "Daily",
          "Monthly",
          "Daily",
          "Monthly",
          "Monthly",
          "Weekly",
          "Monthly",
          "Daily",
          "Weekly",
          "Weekly",
          "Weekly",
          "Monthly",
          "Monthly",
          "Monthly",
          "Weekly",
          "Weekly",
          "Monthly",
          "Daily",
          "Weekly",
          "Weekly",
          "Weekly",
          "Daily",
          "Weekly",
          "Weekly",
          "Weekly",
          "Weekly",
          "Monthly",
          "Daily",
          "Weekly",
          "Monthly",
          "Daily",
          "Daily",
          "Daily",
          "Daily",
          "Daily",
          "Weekly",
          "Monthly",
          "Weekly",
          "Daily",
          "Weekly",
          "Daily",
          "Daily",
          "Daily",
          "Weekly",
          "Monthly",
          "Weekly",
          "Weekly",
          "Daily",
          "Daily",
          "Weekly",
          "Monthly",
          "Weekly",
          "Weekly",
          "Weekly",
          "Monthly",
          "Daily",
          "Weekly",
          "Daily",
          "Daily",
          "Daily",
          "Weekly",
          "Daily",
          "Weekly",
          "Weekly",
          "Daily",
          "Daily",
          "Monthly",
          "Monthly",
          "Monthly",
          "Weekly",
          "Weekly",
          "Monthly",
          "Weekly",
          "Monthly",
          "Monthly",
          "Daily",
          "Weekly",
          "Weekly",
          "Monthly",
          "Daily",
          "Monthly",
          "Daily",
          "Daily",
          "Daily",
          "Monthly",
          "Monthly",
          "Weekly",
          "Daily",
          "Monthly",
          "Daily",
          "Weekly",
          "Weekly",
          "Monthly",
          "Monthly",
          "Monthly",
          "Monthly",
          "Weekly",
          "Weekly",
          "Daily",
          "Weekly",
          "Monthly",
          "Monthly",
          "Weekly",
          "Weekly",
          "Daily",
          "Weekly",
          "Monthly",
          "Daily",
          "Daily",
          "Weekly",
          "Weekly",
          "Daily",
          "Daily",
          "Monthly",
          "Daily",
          "Weekly",
          "Daily",
          "Daily",
          "Weekly",
          "Daily",
          "Monthly",
          "Monthly",
          "Weekly",
          "Daily",
          "Monthly",
          "Weekly",
          "Weekly",
          "Weekly",
          "Daily",
          "Weekly",
          "Monthly",
          "Daily",
          "Monthly",
          "Monthly",
          "Weekly",
          "Daily",
          "Monthly",
          "Monthly",
          "Daily",
          "Daily",
          "Daily",
          "Monthly",
          "Monthly",
          "Daily",
          "Daily",
          "Weekly",
          "Weekly",
          "Monthly",
          "Monthly",
          "Daily",
          "Daily",
          "Daily",
          "Monthly",
          "Weekly",
          "Weekly",
          "Daily",
          "Daily",
          "Daily",
          "Daily",
          "Daily",
          "Monthly",
          "Monthly"
         ],
         "xaxis": "x",
         "y": [
          1,
          1,
          1,
          1,
          1,
          1,
          1,
          1,
          1,
          1,
          1,
          1,
          1,
          1,
          1,
          1,
          1,
          1,
          1,
          1,
          1,
          1,
          1,
          1,
          1,
          1,
          1,
          1,
          1,
          1,
          1,
          1,
          1,
          1,
          1,
          1,
          1,
          1,
          1,
          1,
          1,
          1,
          1,
          1,
          1,
          1,
          1,
          1,
          1,
          1,
          1,
          1,
          1,
          1,
          1,
          1,
          1,
          1,
          1,
          1,
          1,
          1,
          1,
          1,
          1,
          1,
          1,
          1,
          1,
          1,
          1,
          1,
          1,
          1,
          1,
          1,
          1,
          1,
          1,
          1,
          1,
          1,
          1,
          1,
          1,
          1,
          1,
          1,
          1,
          1,
          1,
          1,
          1,
          1,
          1,
          1,
          1,
          1,
          1,
          1,
          1,
          1,
          1,
          1,
          1,
          1,
          1,
          1,
          1,
          1,
          1,
          1,
          1,
          1,
          1,
          1,
          1,
          1,
          1,
          1,
          1,
          1,
          1,
          1,
          1,
          1,
          1,
          1,
          1,
          1,
          1,
          1,
          1,
          1,
          1,
          1,
          1,
          1,
          1,
          1,
          1,
          1,
          1,
          1,
          1,
          1,
          1,
          1,
          1,
          1,
          1,
          1,
          1,
          1,
          1,
          1,
          1,
          1,
          1,
          1,
          1,
          1,
          1,
          1,
          1,
          1,
          1,
          1,
          1,
          1,
          1,
          1,
          1,
          1,
          1,
          1,
          1,
          1,
          1,
          1,
          1,
          1,
          1,
          1,
          1,
          1,
          1,
          1,
          1,
          1,
          1,
          1,
          1,
          1,
          1,
          1,
          1,
          1,
          1,
          1,
          1,
          1,
          1,
          1,
          1,
          1,
          1,
          1,
          1,
          1,
          1,
          1,
          1,
          1,
          1,
          1,
          1,
          1,
          1,
          1,
          1,
          1,
          1,
          1,
          1,
          1,
          1,
          1,
          1,
          1,
          1,
          1,
          1,
          1,
          1,
          1,
          1,
          1,
          1,
          1,
          1,
          1,
          1,
          1,
          1,
          1,
          1,
          1,
          1,
          1,
          1
         ],
         "yaxis": "y"
        },
        {
         "alignmentgroup": "True",
         "hovertemplate": "Gender=Female<br>Frequency of Usage=%{x}<br>count=%{y}<extra></extra>",
         "legendgroup": "Female",
         "marker": {
          "color": "#EF553B",
          "pattern": {
           "shape": ""
          }
         },
         "name": "Female",
         "offsetgroup": "Female",
         "orientation": "v",
         "showlegend": true,
         "textposition": "auto",
         "type": "bar",
         "x": [
          "Monthly",
          "Daily",
          "Daily",
          "Monthly",
          "Monthly",
          "Monthly",
          "Weekly",
          "Weekly",
          "Monthly",
          "Weekly",
          "Monthly",
          "Monthly",
          "Daily",
          "Weekly",
          "Daily",
          "Monthly",
          "Monthly",
          "Daily",
          "Weekly",
          "Weekly",
          "Monthly",
          "Weekly",
          "Weekly",
          "Monthly",
          "Weekly",
          "Daily",
          "Daily",
          "Weekly",
          "Daily",
          "Daily",
          "Daily",
          "Daily",
          "Monthly",
          "Daily",
          "Monthly",
          "Monthly",
          "Daily",
          "Weekly",
          "Monthly",
          "Daily",
          "Weekly",
          "Weekly",
          "Daily",
          "Weekly",
          "Daily",
          "Monthly",
          "Weekly",
          "Weekly",
          "Daily",
          "Weekly",
          "Monthly",
          "Weekly",
          "Monthly",
          "Monthly",
          "Weekly",
          "Daily",
          "Monthly",
          "Weekly",
          "Daily",
          "Monthly",
          "Weekly",
          "Daily",
          "Daily",
          "Monthly",
          "Weekly",
          "Monthly",
          "Daily",
          "Monthly",
          "Daily",
          "Weekly",
          "Weekly",
          "Weekly",
          "Daily",
          "Monthly",
          "Weekly",
          "Daily",
          "Weekly",
          "Weekly",
          "Weekly",
          "Daily",
          "Monthly",
          "Daily",
          "Monthly",
          "Daily",
          "Daily",
          "Daily",
          "Daily",
          "Daily",
          "Monthly",
          "Monthly",
          "Daily",
          "Weekly",
          "Weekly",
          "Daily",
          "Daily",
          "Monthly",
          "Monthly",
          "Weekly",
          "Daily",
          "Weekly",
          "Daily",
          "Monthly",
          "Monthly",
          "Daily",
          "Weekly",
          "Daily",
          "Daily",
          "Daily",
          "Monthly",
          "Monthly",
          "Weekly",
          "Weekly",
          "Weekly",
          "Monthly",
          "Daily",
          "Monthly",
          "Weekly",
          "Monthly",
          "Weekly",
          "Weekly",
          "Monthly",
          "Weekly",
          "Weekly",
          "Daily",
          "Daily",
          "Monthly",
          "Daily",
          "Monthly",
          "Daily",
          "Weekly",
          "Monthly",
          "Monthly",
          "Weekly",
          "Monthly",
          "Weekly",
          "Weekly",
          "Weekly",
          "Daily",
          "Weekly",
          "Monthly",
          "Weekly",
          "Daily",
          "Daily",
          "Weekly",
          "Weekly",
          "Daily",
          "Daily",
          "Weekly",
          "Daily",
          "Daily",
          "Daily",
          "Daily",
          "Weekly",
          "Weekly",
          "Daily",
          "Weekly",
          "Monthly",
          "Monthly",
          "Monthly",
          "Weekly",
          "Monthly",
          "Daily",
          "Weekly",
          "Monthly",
          "Daily",
          "Monthly",
          "Weekly",
          "Daily",
          "Daily",
          "Daily",
          "Daily",
          "Weekly",
          "Weekly",
          "Daily",
          "Daily",
          "Monthly",
          "Monthly",
          "Daily",
          "Weekly",
          "Monthly",
          "Weekly",
          "Daily",
          "Daily",
          "Monthly",
          "Monthly",
          "Daily",
          "Monthly",
          "Daily",
          "Daily",
          "Monthly",
          "Monthly",
          "Daily",
          "Monthly",
          "Daily",
          "Weekly",
          "Monthly",
          "Weekly",
          "Daily",
          "Monthly",
          "Weekly",
          "Weekly",
          "Daily",
          "Weekly",
          "Monthly",
          "Weekly",
          "Daily",
          "Weekly",
          "Weekly",
          "Weekly",
          "Monthly",
          "Weekly",
          "Daily",
          "Monthly",
          "Weekly",
          "Daily",
          "Daily",
          "Daily",
          "Monthly",
          "Daily",
          "Daily",
          "Daily",
          "Weekly",
          "Weekly",
          "Monthly",
          "Monthly",
          "Daily",
          "Daily",
          "Weekly",
          "Monthly",
          "Monthly",
          "Monthly",
          "Monthly",
          "Weekly",
          "Weekly",
          "Weekly",
          "Weekly",
          "Weekly",
          "Weekly",
          "Weekly",
          "Monthly",
          "Monthly",
          "Monthly",
          "Daily",
          "Monthly",
          "Weekly",
          "Weekly",
          "Daily",
          "Monthly",
          "Daily"
         ],
         "xaxis": "x",
         "y": [
          1,
          1,
          1,
          1,
          1,
          1,
          1,
          1,
          1,
          1,
          1,
          1,
          1,
          1,
          1,
          1,
          1,
          1,
          1,
          1,
          1,
          1,
          1,
          1,
          1,
          1,
          1,
          1,
          1,
          1,
          1,
          1,
          1,
          1,
          1,
          1,
          1,
          1,
          1,
          1,
          1,
          1,
          1,
          1,
          1,
          1,
          1,
          1,
          1,
          1,
          1,
          1,
          1,
          1,
          1,
          1,
          1,
          1,
          1,
          1,
          1,
          1,
          1,
          1,
          1,
          1,
          1,
          1,
          1,
          1,
          1,
          1,
          1,
          1,
          1,
          1,
          1,
          1,
          1,
          1,
          1,
          1,
          1,
          1,
          1,
          1,
          1,
          1,
          1,
          1,
          1,
          1,
          1,
          1,
          1,
          1,
          1,
          1,
          1,
          1,
          1,
          1,
          1,
          1,
          1,
          1,
          1,
          1,
          1,
          1,
          1,
          1,
          1,
          1,
          1,
          1,
          1,
          1,
          1,
          1,
          1,
          1,
          1,
          1,
          1,
          1,
          1,
          1,
          1,
          1,
          1,
          1,
          1,
          1,
          1,
          1,
          1,
          1,
          1,
          1,
          1,
          1,
          1,
          1,
          1,
          1,
          1,
          1,
          1,
          1,
          1,
          1,
          1,
          1,
          1,
          1,
          1,
          1,
          1,
          1,
          1,
          1,
          1,
          1,
          1,
          1,
          1,
          1,
          1,
          1,
          1,
          1,
          1,
          1,
          1,
          1,
          1,
          1,
          1,
          1,
          1,
          1,
          1,
          1,
          1,
          1,
          1,
          1,
          1,
          1,
          1,
          1,
          1,
          1,
          1,
          1,
          1,
          1,
          1,
          1,
          1,
          1,
          1,
          1,
          1,
          1,
          1,
          1,
          1,
          1,
          1,
          1,
          1,
          1,
          1,
          1,
          1,
          1,
          1,
          1,
          1,
          1,
          1,
          1,
          1,
          1,
          1,
          1,
          1,
          1,
          1,
          1,
          1,
          1,
          1,
          1,
          1,
          1,
          1,
          1,
          1,
          1,
          1,
          1,
          1,
          1,
          1,
          1,
          1
         ],
         "yaxis": "y"
        }
       ],
       "layout": {
        "barmode": "relative",
        "legend": {
         "title": {
          "text": "Gender"
         },
         "tracegroupgap": 0
        },
        "template": {
         "data": {
          "bar": [
           {
            "error_x": {
             "color": "#2a3f5f"
            },
            "error_y": {
             "color": "#2a3f5f"
            },
            "marker": {
             "line": {
              "color": "#E5ECF6",
              "width": 0.5
             },
             "pattern": {
              "fillmode": "overlay",
              "size": 10,
              "solidity": 0.2
             }
            },
            "type": "bar"
           }
          ],
          "barpolar": [
           {
            "marker": {
             "line": {
              "color": "#E5ECF6",
              "width": 0.5
             },
             "pattern": {
              "fillmode": "overlay",
              "size": 10,
              "solidity": 0.2
             }
            },
            "type": "barpolar"
           }
          ],
          "carpet": [
           {
            "aaxis": {
             "endlinecolor": "#2a3f5f",
             "gridcolor": "white",
             "linecolor": "white",
             "minorgridcolor": "white",
             "startlinecolor": "#2a3f5f"
            },
            "baxis": {
             "endlinecolor": "#2a3f5f",
             "gridcolor": "white",
             "linecolor": "white",
             "minorgridcolor": "white",
             "startlinecolor": "#2a3f5f"
            },
            "type": "carpet"
           }
          ],
          "choropleth": [
           {
            "colorbar": {
             "outlinewidth": 0,
             "ticks": ""
            },
            "type": "choropleth"
           }
          ],
          "contour": [
           {
            "colorbar": {
             "outlinewidth": 0,
             "ticks": ""
            },
            "colorscale": [
             [
              0,
              "#0d0887"
             ],
             [
              0.1111111111111111,
              "#46039f"
             ],
             [
              0.2222222222222222,
              "#7201a8"
             ],
             [
              0.3333333333333333,
              "#9c179e"
             ],
             [
              0.4444444444444444,
              "#bd3786"
             ],
             [
              0.5555555555555556,
              "#d8576b"
             ],
             [
              0.6666666666666666,
              "#ed7953"
             ],
             [
              0.7777777777777778,
              "#fb9f3a"
             ],
             [
              0.8888888888888888,
              "#fdca26"
             ],
             [
              1,
              "#f0f921"
             ]
            ],
            "type": "contour"
           }
          ],
          "contourcarpet": [
           {
            "colorbar": {
             "outlinewidth": 0,
             "ticks": ""
            },
            "type": "contourcarpet"
           }
          ],
          "heatmap": [
           {
            "colorbar": {
             "outlinewidth": 0,
             "ticks": ""
            },
            "colorscale": [
             [
              0,
              "#0d0887"
             ],
             [
              0.1111111111111111,
              "#46039f"
             ],
             [
              0.2222222222222222,
              "#7201a8"
             ],
             [
              0.3333333333333333,
              "#9c179e"
             ],
             [
              0.4444444444444444,
              "#bd3786"
             ],
             [
              0.5555555555555556,
              "#d8576b"
             ],
             [
              0.6666666666666666,
              "#ed7953"
             ],
             [
              0.7777777777777778,
              "#fb9f3a"
             ],
             [
              0.8888888888888888,
              "#fdca26"
             ],
             [
              1,
              "#f0f921"
             ]
            ],
            "type": "heatmap"
           }
          ],
          "heatmapgl": [
           {
            "colorbar": {
             "outlinewidth": 0,
             "ticks": ""
            },
            "colorscale": [
             [
              0,
              "#0d0887"
             ],
             [
              0.1111111111111111,
              "#46039f"
             ],
             [
              0.2222222222222222,
              "#7201a8"
             ],
             [
              0.3333333333333333,
              "#9c179e"
             ],
             [
              0.4444444444444444,
              "#bd3786"
             ],
             [
              0.5555555555555556,
              "#d8576b"
             ],
             [
              0.6666666666666666,
              "#ed7953"
             ],
             [
              0.7777777777777778,
              "#fb9f3a"
             ],
             [
              0.8888888888888888,
              "#fdca26"
             ],
             [
              1,
              "#f0f921"
             ]
            ],
            "type": "heatmapgl"
           }
          ],
          "histogram": [
           {
            "marker": {
             "pattern": {
              "fillmode": "overlay",
              "size": 10,
              "solidity": 0.2
             }
            },
            "type": "histogram"
           }
          ],
          "histogram2d": [
           {
            "colorbar": {
             "outlinewidth": 0,
             "ticks": ""
            },
            "colorscale": [
             [
              0,
              "#0d0887"
             ],
             [
              0.1111111111111111,
              "#46039f"
             ],
             [
              0.2222222222222222,
              "#7201a8"
             ],
             [
              0.3333333333333333,
              "#9c179e"
             ],
             [
              0.4444444444444444,
              "#bd3786"
             ],
             [
              0.5555555555555556,
              "#d8576b"
             ],
             [
              0.6666666666666666,
              "#ed7953"
             ],
             [
              0.7777777777777778,
              "#fb9f3a"
             ],
             [
              0.8888888888888888,
              "#fdca26"
             ],
             [
              1,
              "#f0f921"
             ]
            ],
            "type": "histogram2d"
           }
          ],
          "histogram2dcontour": [
           {
            "colorbar": {
             "outlinewidth": 0,
             "ticks": ""
            },
            "colorscale": [
             [
              0,
              "#0d0887"
             ],
             [
              0.1111111111111111,
              "#46039f"
             ],
             [
              0.2222222222222222,
              "#7201a8"
             ],
             [
              0.3333333333333333,
              "#9c179e"
             ],
             [
              0.4444444444444444,
              "#bd3786"
             ],
             [
              0.5555555555555556,
              "#d8576b"
             ],
             [
              0.6666666666666666,
              "#ed7953"
             ],
             [
              0.7777777777777778,
              "#fb9f3a"
             ],
             [
              0.8888888888888888,
              "#fdca26"
             ],
             [
              1,
              "#f0f921"
             ]
            ],
            "type": "histogram2dcontour"
           }
          ],
          "mesh3d": [
           {
            "colorbar": {
             "outlinewidth": 0,
             "ticks": ""
            },
            "type": "mesh3d"
           }
          ],
          "parcoords": [
           {
            "line": {
             "colorbar": {
              "outlinewidth": 0,
              "ticks": ""
             }
            },
            "type": "parcoords"
           }
          ],
          "pie": [
           {
            "automargin": true,
            "type": "pie"
           }
          ],
          "scatter": [
           {
            "fillpattern": {
             "fillmode": "overlay",
             "size": 10,
             "solidity": 0.2
            },
            "type": "scatter"
           }
          ],
          "scatter3d": [
           {
            "line": {
             "colorbar": {
              "outlinewidth": 0,
              "ticks": ""
             }
            },
            "marker": {
             "colorbar": {
              "outlinewidth": 0,
              "ticks": ""
             }
            },
            "type": "scatter3d"
           }
          ],
          "scattercarpet": [
           {
            "marker": {
             "colorbar": {
              "outlinewidth": 0,
              "ticks": ""
             }
            },
            "type": "scattercarpet"
           }
          ],
          "scattergeo": [
           {
            "marker": {
             "colorbar": {
              "outlinewidth": 0,
              "ticks": ""
             }
            },
            "type": "scattergeo"
           }
          ],
          "scattergl": [
           {
            "marker": {
             "colorbar": {
              "outlinewidth": 0,
              "ticks": ""
             }
            },
            "type": "scattergl"
           }
          ],
          "scattermapbox": [
           {
            "marker": {
             "colorbar": {
              "outlinewidth": 0,
              "ticks": ""
             }
            },
            "type": "scattermapbox"
           }
          ],
          "scatterpolar": [
           {
            "marker": {
             "colorbar": {
              "outlinewidth": 0,
              "ticks": ""
             }
            },
            "type": "scatterpolar"
           }
          ],
          "scatterpolargl": [
           {
            "marker": {
             "colorbar": {
              "outlinewidth": 0,
              "ticks": ""
             }
            },
            "type": "scatterpolargl"
           }
          ],
          "scatterternary": [
           {
            "marker": {
             "colorbar": {
              "outlinewidth": 0,
              "ticks": ""
             }
            },
            "type": "scatterternary"
           }
          ],
          "surface": [
           {
            "colorbar": {
             "outlinewidth": 0,
             "ticks": ""
            },
            "colorscale": [
             [
              0,
              "#0d0887"
             ],
             [
              0.1111111111111111,
              "#46039f"
             ],
             [
              0.2222222222222222,
              "#7201a8"
             ],
             [
              0.3333333333333333,
              "#9c179e"
             ],
             [
              0.4444444444444444,
              "#bd3786"
             ],
             [
              0.5555555555555556,
              "#d8576b"
             ],
             [
              0.6666666666666666,
              "#ed7953"
             ],
             [
              0.7777777777777778,
              "#fb9f3a"
             ],
             [
              0.8888888888888888,
              "#fdca26"
             ],
             [
              1,
              "#f0f921"
             ]
            ],
            "type": "surface"
           }
          ],
          "table": [
           {
            "cells": {
             "fill": {
              "color": "#EBF0F8"
             },
             "line": {
              "color": "white"
             }
            },
            "header": {
             "fill": {
              "color": "#C8D4E3"
             },
             "line": {
              "color": "white"
             }
            },
            "type": "table"
           }
          ]
         },
         "layout": {
          "annotationdefaults": {
           "arrowcolor": "#2a3f5f",
           "arrowhead": 0,
           "arrowwidth": 1
          },
          "autotypenumbers": "strict",
          "coloraxis": {
           "colorbar": {
            "outlinewidth": 0,
            "ticks": ""
           }
          },
          "colorscale": {
           "diverging": [
            [
             0,
             "#8e0152"
            ],
            [
             0.1,
             "#c51b7d"
            ],
            [
             0.2,
             "#de77ae"
            ],
            [
             0.3,
             "#f1b6da"
            ],
            [
             0.4,
             "#fde0ef"
            ],
            [
             0.5,
             "#f7f7f7"
            ],
            [
             0.6,
             "#e6f5d0"
            ],
            [
             0.7,
             "#b8e186"
            ],
            [
             0.8,
             "#7fbc41"
            ],
            [
             0.9,
             "#4d9221"
            ],
            [
             1,
             "#276419"
            ]
           ],
           "sequential": [
            [
             0,
             "#0d0887"
            ],
            [
             0.1111111111111111,
             "#46039f"
            ],
            [
             0.2222222222222222,
             "#7201a8"
            ],
            [
             0.3333333333333333,
             "#9c179e"
            ],
            [
             0.4444444444444444,
             "#bd3786"
            ],
            [
             0.5555555555555556,
             "#d8576b"
            ],
            [
             0.6666666666666666,
             "#ed7953"
            ],
            [
             0.7777777777777778,
             "#fb9f3a"
            ],
            [
             0.8888888888888888,
             "#fdca26"
            ],
            [
             1,
             "#f0f921"
            ]
           ],
           "sequentialminus": [
            [
             0,
             "#0d0887"
            ],
            [
             0.1111111111111111,
             "#46039f"
            ],
            [
             0.2222222222222222,
             "#7201a8"
            ],
            [
             0.3333333333333333,
             "#9c179e"
            ],
            [
             0.4444444444444444,
             "#bd3786"
            ],
            [
             0.5555555555555556,
             "#d8576b"
            ],
            [
             0.6666666666666666,
             "#ed7953"
            ],
            [
             0.7777777777777778,
             "#fb9f3a"
            ],
            [
             0.8888888888888888,
             "#fdca26"
            ],
            [
             1,
             "#f0f921"
            ]
           ]
          },
          "colorway": [
           "#636efa",
           "#EF553B",
           "#00cc96",
           "#ab63fa",
           "#FFA15A",
           "#19d3f3",
           "#FF6692",
           "#B6E880",
           "#FF97FF",
           "#FECB52"
          ],
          "font": {
           "color": "#2a3f5f"
          },
          "geo": {
           "bgcolor": "white",
           "lakecolor": "white",
           "landcolor": "#E5ECF6",
           "showlakes": true,
           "showland": true,
           "subunitcolor": "white"
          },
          "hoverlabel": {
           "align": "left"
          },
          "hovermode": "closest",
          "mapbox": {
           "style": "light"
          },
          "paper_bgcolor": "white",
          "plot_bgcolor": "#E5ECF6",
          "polar": {
           "angularaxis": {
            "gridcolor": "white",
            "linecolor": "white",
            "ticks": ""
           },
           "bgcolor": "#E5ECF6",
           "radialaxis": {
            "gridcolor": "white",
            "linecolor": "white",
            "ticks": ""
           }
          },
          "scene": {
           "xaxis": {
            "backgroundcolor": "#E5ECF6",
            "gridcolor": "white",
            "gridwidth": 2,
            "linecolor": "white",
            "showbackground": true,
            "ticks": "",
            "zerolinecolor": "white"
           },
           "yaxis": {
            "backgroundcolor": "#E5ECF6",
            "gridcolor": "white",
            "gridwidth": 2,
            "linecolor": "white",
            "showbackground": true,
            "ticks": "",
            "zerolinecolor": "white"
           },
           "zaxis": {
            "backgroundcolor": "#E5ECF6",
            "gridcolor": "white",
            "gridwidth": 2,
            "linecolor": "white",
            "showbackground": true,
            "ticks": "",
            "zerolinecolor": "white"
           }
          },
          "shapedefaults": {
           "line": {
            "color": "#2a3f5f"
           }
          },
          "ternary": {
           "aaxis": {
            "gridcolor": "white",
            "linecolor": "white",
            "ticks": ""
           },
           "baxis": {
            "gridcolor": "white",
            "linecolor": "white",
            "ticks": ""
           },
           "bgcolor": "#E5ECF6",
           "caxis": {
            "gridcolor": "white",
            "linecolor": "white",
            "ticks": ""
           }
          },
          "title": {
           "x": 0.05
          },
          "xaxis": {
           "automargin": true,
           "gridcolor": "white",
           "linecolor": "white",
           "ticks": "",
           "title": {
            "standoff": 15
           },
           "zerolinecolor": "white",
           "zerolinewidth": 2
          },
          "yaxis": {
           "automargin": true,
           "gridcolor": "white",
           "linecolor": "white",
           "ticks": "",
           "title": {
            "standoff": 15
           },
           "zerolinecolor": "white",
           "zerolinewidth": 2
          }
         }
        },
        "title": {
         "text": "Frequency of App Usage Distribution"
        },
        "xaxis": {
         "anchor": "y",
         "domain": [
          0,
          1
         ],
         "title": {
          "text": "Frequency of Usage"
         }
        },
        "yaxis": {
         "anchor": "x",
         "domain": [
          0,
          1
         ],
         "title": {
          "text": "Count"
         }
        }
       }
      }
     },
     "metadata": {},
     "output_type": "display_data"
    }
   ],
   "source": [
    "fig = px.bar(data,\n",
    "             x = \"Frequency of Usage\",\n",
    "             color = \"Gender\",\n",
    "             title = \"Frequency of App Usage Distribution\")\n",
    "fig.update_layout(xaxis_title = \"Frequency of Usage\",\n",
    "                  yaxis_title = \"Count\")\n",
    "fig.show()\n"
   ]
  },
  {
   "cell_type": "code",
   "execution_count": 14,
   "metadata": {},
   "outputs": [],
   "source": [
    "# Separate data into male and female\n",
    "male_profiles = data[data['Gender'] == 'Male']\n",
    "female_profiles = data[data['Gender'] == 'Female']"
   ]
  },
  {
   "cell_type": "code",
   "execution_count": 22,
   "metadata": {},
   "outputs": [
    {
     "name": "stdout",
     "output_type": "stream",
     "text": [
      "Match score between user 1 and user 2 is: 9.96\n"
     ]
    }
   ],
   "source": [
    "def calculate_match_score(profile1, profile2):\n",
    "    interest1 = set(eval(profile1['Interests']))\n",
    "    interest2 = set(eval(profile2['Interests']))\n",
    "    shared_interests_score = len(interest1.intersection(interest2))\n",
    "    age_difference_score = max(0, 10 - abs(profile1['Age'] - profile2['Age']))\n",
    "    swiping_history_score = min(profile1['Swiping History'], profile2['Swiping History'] / 100)\n",
    "    relationship_type_score = 0\n",
    "    if profile1['Looking For'] == profile2['Looking For']:\n",
    "        relationship_type_score = 1\n",
    "    total_score = (\n",
    "        shared_interests_score + age_difference_score + swiping_history_score + relationship_type_score\n",
    "    )\n",
    "    return total_score\n",
    "\n",
    "profile1 = male_profiles.iloc[0]\n",
    "profile2 = female_profiles.iloc[0]\n",
    "match_score = calculate_match_score(profile1, profile2)\n",
    "print(f\"Match score between user {profile1['User ID']} and user {profile2['User ID']} is: {match_score}\")\n"
   ]
  },
  {
   "cell_type": "code",
   "execution_count": 25,
   "metadata": {},
   "outputs": [
    {
     "name": "stdout",
     "output_type": "stream",
     "text": [
      "Recommendation 1:\n",
      "Male Profile (User 456): Age 29, Interest ['Cooking', 'Hiking', 'Sports', 'Travel', 'Music', 'Movies', 'Reading']\n",
      "Female Profile (User 65): Age 29, Interest ['Travel', 'Movies', 'Reading', 'Sports', 'Music', 'Cooking', 'Hiking']\n",
      "Match Score: 19.0\n",
      "\n",
      "Recommendation 2:\n",
      "Male Profile (User 147): Age 34, Interest ['Reading', 'Travel', 'Movies', 'Hiking', 'Cooking', 'Music', 'Sports']\n",
      "Female Profile (User 287): Age 34, Interest ['Reading', 'Hiking', 'Cooking', 'Music', 'Movies', 'Travel', 'Sports']\n",
      "Match Score: 18.98\n",
      "\n",
      "Recommendation 3:\n",
      "Male Profile (User 489): Age 33, Interest ['Travel', 'Hiking', 'Reading', 'Sports', 'Music', 'Movies', 'Cooking']\n",
      "Female Profile (User 99): Age 33, Interest ['Reading', 'Cooking', 'Sports', 'Hiking', 'Movies', 'Music', 'Travel']\n",
      "Match Score: 18.97\n",
      "\n",
      "Recommendation 4:\n",
      "Male Profile (User 36): Age 19, Interest ['Movies', 'Cooking', 'Hiking', 'Reading', 'Sports', 'Travel', 'Music']\n",
      "Female Profile (User 451): Age 19, Interest ['Reading', 'Music', 'Cooking', 'Hiking', 'Travel', 'Sports', 'Movies']\n",
      "Match Score: 18.79\n",
      "\n",
      "Recommendation 5:\n",
      "Male Profile (User 190): Age 26, Interest ['Hiking', 'Music', 'Cooking', 'Reading', 'Sports', 'Movies', 'Travel']\n",
      "Female Profile (User 468): Age 26, Interest ['Reading', 'Sports', 'Hiking', 'Movies', 'Travel', 'Cooking', 'Music']\n",
      "Match Score: 18.79\n",
      "\n",
      "Recommendation 6:\n",
      "Male Profile (User 274): Age 29, Interest ['Reading', 'Movies', 'Travel', 'Music', 'Hiking', 'Cooking', 'Sports']\n",
      "Female Profile (User 300): Age 29, Interest ['Cooking', 'Reading', 'Music', 'Hiking', 'Travel', 'Sports', 'Movies']\n",
      "Match Score: 18.73\n",
      "\n",
      "Recommendation 7:\n",
      "Male Profile (User 280): Age 29, Interest ['Travel', 'Hiking', 'Music', 'Sports', 'Reading', 'Cooking', 'Movies']\n",
      "Female Profile (User 300): Age 29, Interest ['Cooking', 'Reading', 'Music', 'Hiking', 'Travel', 'Sports', 'Movies']\n",
      "Match Score: 18.73\n",
      "\n",
      "Recommendation 8:\n",
      "Male Profile (User 37): Age 24, Interest ['Sports', 'Music', 'Reading', 'Hiking', 'Travel', 'Cooking', 'Movies']\n",
      "Female Profile (User 25): Age 24, Interest ['Music', 'Travel', 'Cooking', 'Hiking', 'Movies', 'Reading', 'Sports']\n",
      "Match Score: 18.72\n",
      "\n",
      "Recommendation 9:\n",
      "Male Profile (User 323): Age 30, Interest ['Hiking', 'Travel', 'Movies', 'Reading', 'Sports', 'Cooking', 'Music']\n",
      "Female Profile (User 497): Age 30, Interest ['Hiking', 'Reading', 'Travel', 'Sports', 'Music', 'Cooking', 'Movies']\n",
      "Match Score: 18.65\n",
      "\n",
      "Recommendation 10:\n",
      "Male Profile (User 181): Age 25, Interest ['Sports', 'Music', 'Hiking', 'Travel', 'Cooking', 'Movies', 'Reading']\n",
      "Female Profile (User 175): Age 25, Interest ['Sports', 'Music', 'Travel', 'Hiking', 'Movies', 'Reading', 'Cooking']\n",
      "Match Score: 18.58\n",
      "\n"
     ]
    }
   ],
   "source": [
    "def recommend_profiles(male_profiles, female_profiles):\n",
    "    recommendations = []\n",
    "\n",
    "    for _, male_profile in male_profiles.iterrows():\n",
    "        best_match = None\n",
    "        best_score = -1\n",
    "\n",
    "        for _, female_profile in female_profiles.iterrows():\n",
    "            score = calculate_match_score(male_profile, female_profile)\n",
    "\n",
    "            if score > best_score:\n",
    "                best_match = female_profile\n",
    "                best_score = score\n",
    "\n",
    "        recommendations.append((male_profile, best_match, best_score))\n",
    "    \n",
    "    return recommendations\n",
    "\n",
    "recommendations = recommend_profiles(male_profiles, female_profiles)\n",
    "\n",
    "recommendations.sort(key = lambda x: x[2], reverse=True)\n",
    "\n",
    "for idx, (male_profile, female_profile, match_score) in enumerate(recommendations[:10]):\n",
    "    print(f\"Recommendation {idx + 1}:\")\n",
    "    print(f\"Male Profile (User {male_profile['User ID']}): Age {male_profile['Age']}, Interest {male_profile['Interests']}\")\n",
    "    print(f\"Female Profile (User {female_profile['User ID']}): Age {female_profile['Age']}, Interest {female_profile['Interests']}\")\n",
    "    print(f\"Match Score: {match_score}\")\n",
    "    print()"
   ]
  },
  {
   "cell_type": "code",
   "execution_count": null,
   "metadata": {},
   "outputs": [],
   "source": []
  }
 ],
 "metadata": {
  "kernelspec": {
   "display_name": "Python 3",
   "language": "python",
   "name": "python3"
  },
  "language_info": {
   "codemirror_mode": {
    "name": "ipython",
    "version": 3
   },
   "file_extension": ".py",
   "mimetype": "text/x-python",
   "name": "python",
   "nbconvert_exporter": "python",
   "pygments_lexer": "ipython3",
   "version": "3.11.5"
  },
  "orig_nbformat": 4
 },
 "nbformat": 4,
 "nbformat_minor": 2
}
